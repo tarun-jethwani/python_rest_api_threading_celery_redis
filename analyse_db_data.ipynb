{
 "cells": [
  {
   "cell_type": "code",
   "execution_count": 33,
   "id": "e0f894e3-62e2-4d43-bd22-cc9b5b69e30f",
   "metadata": {},
   "outputs": [],
   "source": [
    "import pandas as pd"
   ]
  },
  {
   "cell_type": "code",
   "execution_count": 34,
   "id": "b9b583e6-7c67-4a55-b511-e77651f240fa",
   "metadata": {},
   "outputs": [],
   "source": [
    "df = pd.read_csv(\"./input_data/urban-area-long-term.csv\", delimiter=',')"
   ]
  },
  {
   "cell_type": "code",
   "execution_count": 35,
   "id": "a3a52707-fd7f-428f-937c-ded4ea7eea25",
   "metadata": {},
   "outputs": [
    {
     "name": "stdout",
     "output_type": "stream",
     "text": [
      "              country   Year Land use: Built-up area\n",
      "0         Afghanistan -10000                       0\n",
      "1              Africa -10000                       0\n",
      "2             Albania -10000                       0\n",
      "3             Algeria -10000                       0\n",
      "4      American Samoa -10000                       0\n",
      "...               ...    ...                     ...\n",
      "26833  Western Sahara   2023              51.569.653\n",
      "26834           World   2023               831572.56\n",
      "26835           Yemen   2023              29.956.204\n",
      "26836          Zambia   2023              13.076.809\n",
      "26837        Zimbabwe   2023              25.801.023\n",
      "\n",
      "[26838 rows x 3 columns]\n"
     ]
    }
   ],
   "source": [
    "print(df)"
   ]
  },
  {
   "cell_type": "code",
   "execution_count": 36,
   "id": "ba7c4dd5-67b8-4816-a211-56ebaea4cafb",
   "metadata": {},
   "outputs": [],
   "source": [
    "from perform_job import read_records_from_db"
   ]
  },
  {
   "cell_type": "code",
   "execution_count": 37,
   "id": "c1bd51bb-3dd3-4920-a68e-406f8ea5ca10",
   "metadata": {},
   "outputs": [],
   "source": [
    "df = read_records_from_db()"
   ]
  },
  {
   "cell_type": "code",
   "execution_count": 38,
   "id": "1cc6b2da-bd5b-4ed6-9ca0-2b5f5f1728c7",
   "metadata": {},
   "outputs": [
    {
     "data": {
      "text/html": [
       "<div>\n",
       "<style scoped>\n",
       "    .dataframe tbody tr th:only-of-type {\n",
       "        vertical-align: middle;\n",
       "    }\n",
       "\n",
       "    .dataframe tbody tr th {\n",
       "        vertical-align: top;\n",
       "    }\n",
       "\n",
       "    .dataframe thead th {\n",
       "        text-align: right;\n",
       "    }\n",
       "</style>\n",
       "<table border=\"1\" class=\"dataframe\">\n",
       "  <thead>\n",
       "    <tr style=\"text-align: right;\">\n",
       "      <th></th>\n",
       "      <th>country</th>\n",
       "      <th>Year</th>\n",
       "      <th>Land use: Built-up area</th>\n",
       "      <th>batch_reference</th>\n",
       "      <th>data_vol</th>\n",
       "    </tr>\n",
       "  </thead>\n",
       "  <tbody>\n",
       "    <tr>\n",
       "      <th>0</th>\n",
       "      <td>Afghanistan</td>\n",
       "      <td>-10000</td>\n",
       "      <td>0</td>\n",
       "      <td>600403</td>\n",
       "      <td>60</td>\n",
       "    </tr>\n",
       "    <tr>\n",
       "      <th>1</th>\n",
       "      <td>Africa</td>\n",
       "      <td>-10000</td>\n",
       "      <td>0</td>\n",
       "      <td>600403</td>\n",
       "      <td>60</td>\n",
       "    </tr>\n",
       "    <tr>\n",
       "      <th>2</th>\n",
       "      <td>Albania</td>\n",
       "      <td>-10000</td>\n",
       "      <td>0</td>\n",
       "      <td>600403</td>\n",
       "      <td>60</td>\n",
       "    </tr>\n",
       "    <tr>\n",
       "      <th>3</th>\n",
       "      <td>Algeria</td>\n",
       "      <td>-10000</td>\n",
       "      <td>0</td>\n",
       "      <td>600403</td>\n",
       "      <td>60</td>\n",
       "    </tr>\n",
       "    <tr>\n",
       "      <th>4</th>\n",
       "      <td>American Samoa</td>\n",
       "      <td>-10000</td>\n",
       "      <td>0</td>\n",
       "      <td>600403</td>\n",
       "      <td>60</td>\n",
       "    </tr>\n",
       "    <tr>\n",
       "      <th>...</th>\n",
       "      <td>...</td>\n",
       "      <td>...</td>\n",
       "      <td>...</td>\n",
       "      <td>...</td>\n",
       "      <td>...</td>\n",
       "    </tr>\n",
       "    <tr>\n",
       "      <th>21738775</th>\n",
       "      <td>Western Sahara</td>\n",
       "      <td>2023</td>\n",
       "      <td>51.569.653</td>\n",
       "      <td>679042</td>\n",
       "      <td>60</td>\n",
       "    </tr>\n",
       "    <tr>\n",
       "      <th>21738776</th>\n",
       "      <td>World</td>\n",
       "      <td>2023</td>\n",
       "      <td>831572.56</td>\n",
       "      <td>679042</td>\n",
       "      <td>60</td>\n",
       "    </tr>\n",
       "    <tr>\n",
       "      <th>21738777</th>\n",
       "      <td>Yemen</td>\n",
       "      <td>2023</td>\n",
       "      <td>29.956.204</td>\n",
       "      <td>679042</td>\n",
       "      <td>60</td>\n",
       "    </tr>\n",
       "    <tr>\n",
       "      <th>21738778</th>\n",
       "      <td>Zambia</td>\n",
       "      <td>2023</td>\n",
       "      <td>13.076.809</td>\n",
       "      <td>679042</td>\n",
       "      <td>60</td>\n",
       "    </tr>\n",
       "    <tr>\n",
       "      <th>21738779</th>\n",
       "      <td>Zimbabwe</td>\n",
       "      <td>2023</td>\n",
       "      <td>25.801.023</td>\n",
       "      <td>679042</td>\n",
       "      <td>60</td>\n",
       "    </tr>\n",
       "  </tbody>\n",
       "</table>\n",
       "<p>21738780 rows × 5 columns</p>\n",
       "</div>"
      ],
      "text/plain": [
       "                 country   Year Land use: Built-up area batch_reference  \\\n",
       "0            Afghanistan -10000                       0          600403   \n",
       "1                 Africa -10000                       0          600403   \n",
       "2                Albania -10000                       0          600403   \n",
       "3                Algeria -10000                       0          600403   \n",
       "4         American Samoa -10000                       0          600403   \n",
       "...                  ...    ...                     ...             ...   \n",
       "21738775  Western Sahara   2023              51.569.653          679042   \n",
       "21738776           World   2023               831572.56          679042   \n",
       "21738777           Yemen   2023              29.956.204          679042   \n",
       "21738778          Zambia   2023              13.076.809          679042   \n",
       "21738779        Zimbabwe   2023              25.801.023          679042   \n",
       "\n",
       "         data_vol  \n",
       "0              60  \n",
       "1              60  \n",
       "2              60  \n",
       "3              60  \n",
       "4              60  \n",
       "...           ...  \n",
       "21738775       60  \n",
       "21738776       60  \n",
       "21738777       60  \n",
       "21738778       60  \n",
       "21738779       60  \n",
       "\n",
       "[21738780 rows x 5 columns]"
      ]
     },
     "execution_count": 38,
     "metadata": {},
     "output_type": "execute_result"
    }
   ],
   "source": [
    "df"
   ]
  },
  {
   "cell_type": "code",
   "execution_count": 39,
   "id": "03d8501d-5a19-4d53-9389-3ecc5c2e3df9",
   "metadata": {},
   "outputs": [],
   "source": [
    "df.to_csv(\"current_records.csv\")"
   ]
  },
  {
   "cell_type": "code",
   "execution_count": 17,
   "id": "980c9efc-bf50-485d-af57-d3a3b4dc2ac7",
   "metadata": {},
   "outputs": [
    {
     "data": {
      "text/plain": [
       "array(['10'], dtype=object)"
      ]
     },
     "execution_count": 17,
     "metadata": {},
     "output_type": "execute_result"
    }
   ],
   "source": [
    "df['data_vol'].unique()"
   ]
  },
  {
   "cell_type": "code",
   "execution_count": null,
   "id": "878a3b10-d5df-4b5f-9265-50618e3402ff",
   "metadata": {},
   "outputs": [],
   "source": []
  }
 ],
 "metadata": {
  "kernelspec": {
   "display_name": "Python 3 (ipykernel)",
   "language": "python",
   "name": "python3"
  },
  "language_info": {
   "codemirror_mode": {
    "name": "ipython",
    "version": 3
   },
   "file_extension": ".py",
   "mimetype": "text/x-python",
   "name": "python",
   "nbconvert_exporter": "python",
   "pygments_lexer": "ipython3",
   "version": "3.12.2"
  }
 },
 "nbformat": 4,
 "nbformat_minor": 5
}
